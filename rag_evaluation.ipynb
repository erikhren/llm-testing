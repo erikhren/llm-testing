{
 "cells": [
  {
   "cell_type": "code",
   "execution_count": null,
   "id": "e1ac3ded",
   "metadata": {},
   "outputs": [],
   "source": [
    "# INSTALLS\n",
    "# llama-index-readers-file pymupdf\n",
    "# pip install llama-index-llms-azure-openai\n",
    "# ipykernel\n",
    "# pip install llama-index-llms-ollama\n",
    "\n",
    "# NOT YET\n",
    "# %pip install llama-index-embeddings-huggingface\n",
    "\n",
    "# https://docs.llamaindex.ai/en/stable/examples/low_level/oss_ingestion_retrieval/"
   ]
  },
  {
   "cell_type": "code",
   "execution_count": null,
   "id": "02678954",
   "metadata": {},
   "outputs": [],
   "source": [
    "# Imports\n",
    "from pathlib import Path\n",
    "from llama_index.readers.file import PyMuPDFReader\n",
    "from llama_index.llms.azure_openai import AzureOpenAI\n",
    "from llama_index.core import VectorStoreIndex\n",
    "from llama_index.core.node_parser import SentenceSplitter\n",
    "from llama_index.llms.ollama import Ollama"
   ]
  },
  {
   "cell_type": "code",
   "execution_count": null,
   "id": "7f804d98",
   "metadata": {},
   "outputs": [],
   "source": [
    "# api_key = \"<api-key>\"\n",
    "# azure_endpoint = \"https://<your-resource-name>.openai.azure.com/\"\n",
    "# api_version = \"2023-07-01-preview\"\n",
    "\n",
    "# llm = AzureOpenAI(\n",
    "#     model=\"gpt-35-turbo-16k\",\n",
    "#     deployment_name=\"my-custom-llm\",\n",
    "#     api_key=api_key,\n",
    "#     azure_endpoint=azure_endpoint,\n",
    "#     api_version=api_version,\n",
    "# )\n",
    "llm = Ollama(model=\"llama2\", request_timeout=60.0)"
   ]
  },
  {
   "cell_type": "code",
   "execution_count": 4,
   "id": "e26ba9cf",
   "metadata": {},
   "outputs": [],
   "source": [
    "# Data load\n",
    "loader = PyMuPDFReader()\n",
    "documents = loader.load(file_path=\"backend/rag_data/llama2.pdf\")"
   ]
  },
  {
   "cell_type": "code",
   "execution_count": null,
   "id": "a933f4d8",
   "metadata": {},
   "outputs": [],
   "source": [
    "node_parser = SentenceSplitter(chunk_size=1024)\n",
    "nodes = node_parser.get_nodes_from_documents(documents)\n",
    "index = VectorStoreIndex(nodes)\n",
    "query_engine = index.as_query_engine(llm=llm)"
   ]
  },
  {
   "cell_type": "code",
   "execution_count": null,
   "id": "8b3cb397",
   "metadata": {},
   "outputs": [],
   "source": [
    "# Test\n",
    "query_str = (\n",
    "    \"What is the specific name given to the fine-tuned LLMs optimized for\"\n",
    "    \" dialogue use cases?\"\n",
    ")\n",
    "\n",
    "generated_answer = str(query_engine.query(query_str))\n"
   ]
  },
  {
   "cell_type": "code",
   "execution_count": null,
   "id": "e841f702",
   "metadata": {},
   "outputs": [],
   "source": [
    "# DATASET GENERATION"
   ]
  },
  {
   "cell_type": "code",
   "execution_count": null,
   "id": "54baac30",
   "metadata": {},
   "outputs": [],
   "source": []
  },
  {
   "cell_type": "code",
   "execution_count": null,
   "id": "47f9145d",
   "metadata": {},
   "outputs": [],
   "source": []
  },
  {
   "cell_type": "code",
   "execution_count": null,
   "id": "e0d449f5",
   "metadata": {},
   "outputs": [],
   "source": []
  },
  {
   "cell_type": "code",
   "execution_count": null,
   "id": "71a8b6ba",
   "metadata": {},
   "outputs": [],
   "source": []
  },
  {
   "cell_type": "code",
   "execution_count": null,
   "id": "220ceae7",
   "metadata": {},
   "outputs": [],
   "source": []
  },
  {
   "cell_type": "code",
   "execution_count": null,
   "id": "e04096e1",
   "metadata": {},
   "outputs": [],
   "source": []
  }
 ],
 "metadata": {
  "kernelspec": {
   "display_name": ".venv",
   "language": "python",
   "name": "python3"
  },
  "language_info": {
   "codemirror_mode": {
    "name": "ipython",
    "version": 3
   },
   "file_extension": ".py",
   "mimetype": "text/x-python",
   "name": "python",
   "nbconvert_exporter": "python",
   "pygments_lexer": "ipython3",
   "version": "3.11.12"
  }
 },
 "nbformat": 4,
 "nbformat_minor": 5
}
